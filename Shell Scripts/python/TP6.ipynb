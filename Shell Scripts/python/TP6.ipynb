{
 "cells": [
  {
   "cell_type": "markdown",
   "metadata": {},
   "source": [
    "# Boucle"
   ]
  },
  {
   "cell_type": "code",
   "execution_count": 3,
   "metadata": {
    "scrolled": true
   },
   "outputs": [
    {
     "name": "stdout",
     "output_type": "stream",
     "text": [
      "0\n",
      "1\n",
      "2\n",
      "3\n",
      "4\n",
      "5\n",
      "6\n",
      "7\n",
      "8\n",
      "9\n",
      "10\n",
      "11\n",
      "12\n",
      "13\n",
      "14\n",
      "15\n",
      "16\n",
      "17\n",
      "18\n",
      "19\n",
      "20\n",
      "21\n",
      "22\n",
      "23\n",
      "24\n",
      "25\n",
      "26\n",
      "27\n",
      "28\n",
      "29\n",
      "30\n",
      "31\n",
      "32\n",
      "33\n",
      "34\n",
      "35\n",
      "36\n",
      "37\n",
      "38\n",
      "39\n",
      "40\n",
      "41\n",
      "42\n",
      "43\n",
      "44\n",
      "45\n",
      "46\n",
      "47\n",
      "48\n",
      "49\n",
      "50\n",
      "51\n",
      "52\n",
      "53\n",
      "54\n",
      "55\n",
      "56\n",
      "57\n",
      "58\n",
      "59\n",
      "60\n",
      "61\n",
      "62\n",
      "63\n",
      "64\n",
      "65\n",
      "66\n",
      "67\n",
      "68\n",
      "69\n",
      "70\n",
      "71\n",
      "72\n",
      "73\n",
      "74\n",
      "75\n",
      "76\n",
      "77\n",
      "78\n",
      "79\n",
      "80\n",
      "81\n",
      "82\n",
      "83\n",
      "84\n",
      "85\n",
      "86\n",
      "87\n",
      "88\n",
      "89\n",
      "90\n",
      "91\n",
      "92\n",
      "93\n",
      "94\n",
      "95\n",
      "96\n",
      "97\n",
      "98\n",
      "99\n"
     ]
    }
   ],
   "source": [
    "x = 0\n",
    "while x < 100:\n",
    "    print(x)\n",
    "    x += 1"
   ]
  },
  {
   "cell_type": "code",
   "execution_count": 2,
   "metadata": {
    "scrolled": true
   },
   "outputs": [
    {
     "name": "stdout",
     "output_type": "stream",
     "text": [
      "0\n",
      "1\n",
      "2\n",
      "3\n",
      "4\n",
      "5\n",
      "6\n",
      "7\n",
      "8\n",
      "9\n",
      "10\n",
      "11\n",
      "12\n",
      "13\n",
      "14\n",
      "15\n",
      "16\n",
      "17\n",
      "18\n",
      "19\n",
      "20\n",
      "21\n",
      "22\n",
      "23\n",
      "24\n",
      "25\n",
      "26\n",
      "27\n",
      "28\n",
      "29\n",
      "30\n",
      "31\n",
      "32\n",
      "33\n",
      "34\n",
      "35\n",
      "36\n",
      "37\n",
      "38\n",
      "39\n",
      "40\n",
      "41\n",
      "42\n",
      "43\n",
      "44\n",
      "45\n",
      "46\n",
      "47\n",
      "48\n",
      "49\n",
      "50\n",
      "51\n",
      "52\n",
      "53\n",
      "54\n",
      "55\n",
      "56\n",
      "57\n",
      "58\n",
      "59\n",
      "60\n",
      "61\n",
      "62\n",
      "63\n",
      "64\n",
      "65\n",
      "66\n",
      "67\n",
      "68\n",
      "69\n",
      "70\n",
      "71\n",
      "72\n",
      "73\n",
      "74\n",
      "75\n",
      "76\n",
      "77\n",
      "78\n",
      "79\n",
      "80\n",
      "81\n",
      "82\n",
      "83\n",
      "84\n",
      "85\n",
      "86\n",
      "87\n",
      "88\n",
      "89\n",
      "90\n",
      "91\n",
      "92\n",
      "93\n",
      "94\n",
      "95\n",
      "96\n",
      "97\n",
      "98\n",
      "99\n"
     ]
    }
   ],
   "source": [
    "for x in range(100):\n",
    "    print(x)"
   ]
  },
  {
   "cell_type": "markdown",
   "metadata": {},
   "source": [
    "# Liste"
   ]
  },
  {
   "cell_type": "code",
   "execution_count": 4,
   "metadata": {},
   "outputs": [],
   "source": [
    "my_list = []"
   ]
  },
  {
   "cell_type": "code",
   "execution_count": 5,
   "metadata": {},
   "outputs": [],
   "source": [
    "my_other_list = [1, 2, 3, 4, 5]"
   ]
  },
  {
   "cell_type": "code",
   "execution_count": 6,
   "metadata": {},
   "outputs": [
    {
     "name": "stdout",
     "output_type": "stream",
     "text": [
      "5\n"
     ]
    }
   ],
   "source": [
    "print(len(my_other_list))"
   ]
  },
  {
   "cell_type": "code",
   "execution_count": 7,
   "metadata": {},
   "outputs": [
    {
     "name": "stdout",
     "output_type": "stream",
     "text": [
      "[1, 99, 3, 4, 5]\n",
      "[1, 99, 4, 5]\n",
      "[1, 99, 4, 123, 5]\n"
     ]
    }
   ],
   "source": [
    "my_other_list[1] = 99\n",
    "print(my_other_list)\n",
    "my_other_list.remove(3)\n",
    "print(my_other_list)\n",
    "my_other_list.insert(3, 123)\n",
    "print(my_other_list)"
   ]
  },
  {
   "cell_type": "code",
   "execution_count": 8,
   "metadata": {},
   "outputs": [
    {
     "name": "stdout",
     "output_type": "stream",
     "text": [
      "1\n",
      "99\n",
      "4\n",
      "123\n",
      "5\n"
     ]
    }
   ],
   "source": [
    "for x in my_other_list:\n",
    "    print(x)"
   ]
  },
  {
   "cell_type": "code",
   "execution_count": 11,
   "metadata": {},
   "outputs": [
    {
     "name": "stdout",
     "output_type": "stream",
     "text": [
      "Enter search value: 123123\n",
      "the index of 123123 is not found\n"
     ]
    }
   ],
   "source": [
    "user_input = int(input(\"Enter search value: \"))\n",
    "\n",
    "try:\n",
    "    search_index = my_other_list.index(user_input)\n",
    "except ValueError:\n",
    "    search_index = \"not found\"\n",
    "\n",
    "print(f\"the index of {user_input} is {search_index}\")"
   ]
  },
  {
   "cell_type": "code",
   "execution_count": 17,
   "metadata": {},
   "outputs": [
    {
     "name": "stdout",
     "output_type": "stream",
     "text": [
      "[5, 123, 4, 99, 1]\n",
      "[1, 99, 4, 123, 5]\n"
     ]
    }
   ],
   "source": [
    "my_other_list.reverse()\n",
    "print(my_other_list)\n",
    "my_other_list.reverse()\n",
    "print(my_other_list)\n",
    "my_other_list.reverse()"
   ]
  },
  {
   "cell_type": "markdown",
   "metadata": {},
   "source": [
    "# Tableau"
   ]
  },
  {
   "cell_type": "code",
   "execution_count": 20,
   "metadata": {},
   "outputs": [],
   "source": [
    "from scipy import *"
   ]
  },
  {
   "cell_type": "code",
   "execution_count": 22,
   "metadata": {},
   "outputs": [
    {
     "name": "stdout",
     "output_type": "stream",
     "text": [
      "[1 2 3 4 5 6 7 8 9]\n"
     ]
    }
   ],
   "source": [
    "my_arr = array([1, 2, 3, 4, 5, 6, 7, 8, 9])\n",
    "print(my_arr)"
   ]
  },
  {
   "cell_type": "code",
   "execution_count": 23,
   "metadata": {},
   "outputs": [
    {
     "name": "stdout",
     "output_type": "stream",
     "text": [
      "5.0\n"
     ]
    }
   ],
   "source": [
    "print(my_arr.mean())"
   ]
  },
  {
   "cell_type": "code",
   "execution_count": 25,
   "metadata": {},
   "outputs": [
    {
     "name": "stdout",
     "output_type": "stream",
     "text": [
      "1\n",
      "1\n",
      "1\n",
      "1\n",
      "1\n",
      "1\n",
      "1\n",
      "1\n",
      "1\n"
     ]
    }
   ],
   "source": [
    "for x in my_arr:\n",
    "    print(my_arr.tolist().count(x))"
   ]
  },
  {
   "cell_type": "code",
   "execution_count": 26,
   "metadata": {},
   "outputs": [
    {
     "name": "stdout",
     "output_type": "stream",
     "text": [
      "5 is in the array\n"
     ]
    }
   ],
   "source": [
    "if (5 in my_arr):\n",
    "    print(\"5 is in the array\")"
   ]
  },
  {
   "cell_type": "code",
   "execution_count": 30,
   "metadata": {},
   "outputs": [],
   "source": [
    "def arr_copy(arr):\n",
    "    return array([x for x in arr])"
   ]
  },
  {
   "cell_type": "code",
   "execution_count": 31,
   "metadata": {},
   "outputs": [
    {
     "name": "stdout",
     "output_type": "stream",
     "text": [
      "[1 2 3 4 5 6 7 8 9]\n",
      "[1 2 3 4 5 6 7 8 9]\n"
     ]
    }
   ],
   "source": [
    "new_arr = arr_copy(my_arr)\n",
    "print(new_arr)\n",
    "print(my_arr)"
   ]
  },
  {
   "cell_type": "code",
   "execution_count": 32,
   "metadata": {},
   "outputs": [],
   "source": [
    "def arr_inv_copy(arr):\n",
    "    x = [x for x in arr]\n",
    "    x.reverse()\n",
    "    return array(x)"
   ]
  },
  {
   "cell_type": "code",
   "execution_count": 33,
   "metadata": {},
   "outputs": [
    {
     "name": "stdout",
     "output_type": "stream",
     "text": [
      "[9 8 7 6 5 4 3 2 1]\n",
      "[1 2 3 4 5 6 7 8 9]\n"
     ]
    }
   ],
   "source": [
    "new_arr = arr_inv_copy(my_arr)\n",
    "print(new_arr)\n",
    "print(my_arr)"
   ]
  },
  {
   "cell_type": "code",
   "execution_count": 40,
   "metadata": {},
   "outputs": [],
   "source": [
    "def index_minimum(t, d, f):\n",
    "    search_area = t[d:f]\n",
    "    search_area.sort()\n",
    "    return search_area[0]"
   ]
  },
  {
   "cell_type": "code",
   "execution_count": 41,
   "metadata": {},
   "outputs": [
    {
     "name": "stdout",
     "output_type": "stream",
     "text": [
      "2\n"
     ]
    }
   ],
   "source": [
    "print(index_minimum(my_arr, 1, 5))"
   ]
  },
  {
   "cell_type": "code",
   "execution_count": 55,
   "metadata": {},
   "outputs": [],
   "source": [
    "def bubble_sort(t):\n",
    "    n = len(t)\n",
    "    for i in range(n):\n",
    "        for j in range(n - i - 1):\n",
    "            if t[j] > t[j + 1]:\n",
    "                t[j], t[j + 1] = t[j + 1], t[j]"
   ]
  },
  {
   "cell_type": "code",
   "execution_count": 69,
   "metadata": {},
   "outputs": [],
   "source": [
    "import time\n",
    "def bubble_sort_timer(t):\n",
    "    x = arr_copy(t)\n",
    "    \n",
    "    start = time.process_time()\n",
    "    bubble_sort(x)\n",
    "    end = time.process_time()\n",
    "    print(f\"time it would take to sort the array is: {end - start}\")\n",
    "    "
   ]
  },
  {
   "cell_type": "code",
   "execution_count": 70,
   "metadata": {},
   "outputs": [],
   "source": [
    "my_other_arr = array([2, 3, 5, 1, 4])"
   ]
  },
  {
   "cell_type": "code",
   "execution_count": 72,
   "metadata": {},
   "outputs": [
    {
     "name": "stdout",
     "output_type": "stream",
     "text": [
      "[2 3 5 1 4]\n",
      "[1 2 3 4 5]\n"
     ]
    }
   ],
   "source": [
    "print(my_other_arr)\n",
    "bubble_sort(my_other_arr)\n",
    "print(my_other_arr)"
   ]
  },
  {
   "cell_type": "code",
   "execution_count": 73,
   "metadata": {},
   "outputs": [
    {
     "name": "stdout",
     "output_type": "stream",
     "text": [
      "time it would take to sort the array is: 0.453125\n"
     ]
    }
   ],
   "source": [
    "rand_arr = rand(1000, 1)\n",
    "bubble_sort_timer(rand_arr)"
   ]
  },
  {
   "cell_type": "code",
   "execution_count": 98,
   "metadata": {},
   "outputs": [],
   "source": [
    "def syracuse_id(n):\n",
    "    name = n\n",
    "    count = 0\n",
    "    trajectory = []\n",
    "    biggest = n\n",
    "    while n != 1:\n",
    "        if n%2 == 0:\n",
    "            n /= 2\n",
    "        else:\n",
    "            n = (3 * n) + 1\n",
    "        # identity calculation\n",
    "        if n > biggest:\n",
    "            biggest = n\n",
    "        trajectory.append(n)\n",
    "        count += 1\n",
    "    identity = (name, trajectory, count, biggest)\n",
    "    return identity"
   ]
  },
  {
   "cell_type": "code",
   "execution_count": 99,
   "metadata": {},
   "outputs": [
    {
     "name": "stdout",
     "output_type": "stream",
     "text": [
      "(5, [16, 8.0, 4.0, 2.0, 1.0], 5, 16)\n"
     ]
    }
   ],
   "source": [
    "id_5 = syracuse_id(5)\n",
    "print(id_5)"
   ]
  },
  {
   "cell_type": "code",
   "execution_count": 106,
   "metadata": {},
   "outputs": [],
   "source": [
    "def trajectory_display(i):\n",
    "    print(f\"trajectory of {i[0]}\")\n",
    "    for x in i[1]:\n",
    "        print(x, end = \" -> \")\n",
    "    print(\"\")"
   ]
  },
  {
   "cell_type": "code",
   "execution_count": 107,
   "metadata": {},
   "outputs": [
    {
     "name": "stdout",
     "output_type": "stream",
     "text": [
      "trajectory of 5\n",
      "16 -> 8.0 -> 4.0 -> 2.0 -> 1.0 -> \n"
     ]
    }
   ],
   "source": [
    "trajectory_display(id_5)"
   ]
  },
  {
   "cell_type": "code",
   "execution_count": 108,
   "metadata": {},
   "outputs": [],
   "source": [
    "def syracuse_id_of_interval(min, max):\n",
    "    return [syracuse_id(x) for x in range(min, max)]"
   ]
  },
  {
   "cell_type": "code",
   "execution_count": 109,
   "metadata": {},
   "outputs": [
    {
     "name": "stdout",
     "output_type": "stream",
     "text": [
      "trajectory of 5\n",
      "16 -> 8.0 -> 4.0 -> 2.0 -> 1.0 -> \n",
      "trajectory of 6\n",
      "3.0 -> 10.0 -> 5.0 -> 16.0 -> 8.0 -> 4.0 -> 2.0 -> 1.0 -> \n",
      "trajectory of 7\n",
      "22 -> 11.0 -> 34.0 -> 17.0 -> 52.0 -> 26.0 -> 13.0 -> 40.0 -> 20.0 -> 10.0 -> 5.0 -> 16.0 -> 8.0 -> 4.0 -> 2.0 -> 1.0 -> \n",
      "trajectory of 8\n",
      "4.0 -> 2.0 -> 1.0 -> \n",
      "trajectory of 9\n",
      "28 -> 14.0 -> 7.0 -> 22.0 -> 11.0 -> 34.0 -> 17.0 -> 52.0 -> 26.0 -> 13.0 -> 40.0 -> 20.0 -> 10.0 -> 5.0 -> 16.0 -> 8.0 -> 4.0 -> 2.0 -> 1.0 -> \n"
     ]
    }
   ],
   "source": [
    "syra_interval = syracuse_id_of_interval(5, 10)\n",
    "for x in syra_interval:\n",
    "    trajectory_display(x)"
   ]
  },
  {
   "cell_type": "code",
   "execution_count": null,
   "metadata": {},
   "outputs": [],
   "source": []
  }
 ],
 "metadata": {
  "kernelspec": {
   "display_name": "Python 3",
   "language": "python",
   "name": "python3"
  },
  "language_info": {
   "codemirror_mode": {
    "name": "ipython",
    "version": 3
   },
   "file_extension": ".py",
   "mimetype": "text/x-python",
   "name": "python",
   "nbconvert_exporter": "python",
   "pygments_lexer": "ipython3",
   "version": "3.7.5"
  }
 },
 "nbformat": 4,
 "nbformat_minor": 2
}
