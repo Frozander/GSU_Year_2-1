{
 "cells": [
  {
   "cell_type": "markdown",
   "metadata": {},
   "source": [
    "## Prime Generation"
   ]
  },
  {
   "cell_type": "code",
   "execution_count": null,
   "metadata": {},
   "outputs": [],
   "source": [
    "from nprime.pyprime import miller_rabin\n",
    "from math import gcd as bltin_gcd\n",
    "from secrets import randbits, randbelow\n",
    "from sympy import mod_inverse"
   ]
  },
  {
   "cell_type": "code",
   "execution_count": null,
   "metadata": {},
   "outputs": [],
   "source": [
    "def generate_prime_candidate(len):\n",
    "    p_can = randbits(len)\n",
    "    \n",
    "    p_can |= (1 << len - 1) | 1\n",
    "    return p_can"
   ]
  },
  {
   "cell_type": "code",
   "execution_count": null,
   "metadata": {},
   "outputs": [],
   "source": [
    "def gen_prime_number(len=1024):\n",
    "    p = 4\n",
    "    while not miller_rabin(p, t=128):\n",
    "        p = generate_prime_candidate(len)\n",
    "    return p\n",
    "\n",
    "# Coprime generation functions\n",
    "def coprime2(a, b):\n",
    "    return bltin_gcd(a, b) == 1\n",
    "\n",
    "def gen_coprime(n):\n",
    "    m = randbelow(n - 1) + 2\n",
    "    while not coprime2(m, n):\n",
    "        m = randbelow(n - 1) + 2\n",
    "    return m"
   ]
  },
  {
   "cell_type": "code",
   "execution_count": null,
   "metadata": {},
   "outputs": [],
   "source": [
    "p = gen_prime_number()\n",
    "q = gen_prime_number()"
   ]
  },
  {
   "cell_type": "code",
   "execution_count": null,
   "metadata": {},
   "outputs": [],
   "source": [
    "print(f\"p: { p }\\nq: { q }\\np * q: { p * q }\")"
   ]
  },
  {
   "cell_type": "markdown",
   "metadata": {},
   "source": [
    "## Encode message as a number"
   ]
  },
  {
   "cell_type": "code",
   "execution_count": null,
   "metadata": {},
   "outputs": [],
   "source": [
    "def str_to_int(in_string):\n",
    "    int_list = [None] * len(in_string)\n",
    "    for index, c in enumerate(in_string.upper()):\n",
    "        int_list[index] = ord(c)\n",
    "    l_to_i = [str(num) for num in int_list]\n",
    "    l_to_i = int(\"\".join(l_to_i))\n",
    "    return l_to_i"
   ]
  },
  {
   "cell_type": "code",
   "execution_count": null,
   "metadata": {},
   "outputs": [],
   "source": [
    "test = str_to_int(\"Hello\")\n",
    "print(test)"
   ]
  },
  {
   "cell_type": "markdown",
   "metadata": {},
   "source": [
    "## Decode the number as a string"
   ]
  },
  {
   "cell_type": "code",
   "execution_count": null,
   "metadata": {},
   "outputs": [],
   "source": [
    "def int_to_str(in_int):\n",
    "    i_str = str(in_int)\n",
    "    new_str = \"\"\n",
    "    for x in range(len(i_str) // 2):\n",
    "        new_str += (chr(int(i_str[x*2:x*2 + 2])))\n",
    "    return new_str.lower()"
   ]
  },
  {
   "cell_type": "code",
   "execution_count": null,
   "metadata": {},
   "outputs": [],
   "source": [
    "test = \"hello world!\"\n",
    "test_e = str_to_int(test)\n",
    "test_d = int_to_str(test_e)\n",
    "\n",
    "print(f\"'{ test }' is encoded as '{ test_e }', and decoded as '{ test_d }'\")"
   ]
  },
  {
   "cell_type": "markdown",
   "metadata": {},
   "source": [
    "# Testing our RSA"
   ]
  },
  {
   "cell_type": "code",
   "execution_count": null,
   "metadata": {},
   "outputs": [],
   "source": [
    "# Generating our initial primes\n",
    "p = gen_prime_number(1024)\n",
    "q = gen_prime_number(1024)\n",
    "print(p)\n",
    "print(q)"
   ]
  },
  {
   "cell_type": "code",
   "execution_count": null,
   "metadata": {},
   "outputs": [],
   "source": [
    "# Calculate n\n",
    "n = p * q\n",
    "print(n)"
   ]
  },
  {
   "cell_type": "code",
   "execution_count": null,
   "metadata": {},
   "outputs": [],
   "source": [
    "# Calculate totient of n tot = (p - 1) * (q - 1)\n",
    "tot = (p - 1) * (q - 1)\n",
    "print(tot)"
   ]
  },
  {
   "cell_type": "code",
   "execution_count": null,
   "metadata": {},
   "outputs": [],
   "source": [
    "# Generate coprime for n\n",
    "e  = gen_coprime(n)\n",
    "print(e)"
   ]
  },
  {
   "cell_type": "code",
   "execution_count": null,
   "metadata": {},
   "outputs": [],
   "source": [
    "#Find the value d for private key pair (decryption key)\n",
    "# Hardest one to calculate by brute force\n",
    "d = mod_inverse(e, tot)\n",
    "print(d)"
   ]
  },
  {
   "cell_type": "code",
   "execution_count": null,
   "metadata": {},
   "outputs": [],
   "source": [
    "# Create our key pairs\n",
    "pub_k = (n, e)\n",
    "pri_k = (n, d)"
   ]
  },
  {
   "cell_type": "code",
   "execution_count": null,
   "metadata": {},
   "outputs": [],
   "source": [
    "# Now let's create a string and encode it as an integer\n",
    "input_string = \"Quick brown fox jumped over the lazy\"\n",
    "inted_str = str_to_int(input_string)\n",
    "print(inted_str)"
   ]
  },
  {
   "cell_type": "code",
   "execution_count": null,
   "metadata": {},
   "outputs": [],
   "source": [
    "# Encrypt the message value by using the public key\n",
    "encoded_string = pow(inted_str, pub_k[1], pub_k[0])\n",
    "print(encoded_string)"
   ]
  },
  {
   "cell_type": "code",
   "execution_count": null,
   "metadata": {},
   "outputs": [],
   "source": [
    "# Decrypt the value to the message using private key\n",
    "decrypted_string = int_to_str(pow(encoded_string, pri_k[1], pri_k[0]))\n",
    "print(decrypted_string)"
   ]
  },
  {
   "cell_type": "code",
   "execution_count": null,
   "metadata": {},
   "outputs": [],
   "source": [
    "# Let's do both steps in once\n",
    "enc = pow(inted_str, pri_k[1], pri_k[0])\n",
    "dec = int_to_str(pow(enc, pub_k[1], pub_k[0]))"
   ]
  },
  {
   "cell_type": "code",
   "execution_count": null,
   "metadata": {},
   "outputs": [],
   "source": [
    "# Output\n",
    "print(f\"{ input_string } was represented as { inted_str }\\n\")\n",
    "print(f\"Then it was encoded as : { enc }\\n\")\n",
    "print(f\"Finally it was decoded as : { dec }\")"
   ]
  },
  {
   "cell_type": "markdown",
   "metadata": {},
   "source": [
    "## Testing with smaller key size"
   ]
  },
  {
   "cell_type": "code",
   "execution_count": null,
   "metadata": {},
   "outputs": [],
   "source": [
    "p = gen_prime_number(128)\n",
    "q = gen_prime_number(128)\n",
    "\n",
    "print(p)\n",
    "print(q)"
   ]
  },
  {
   "cell_type": "code",
   "execution_count": null,
   "metadata": {},
   "outputs": [],
   "source": [
    "n = p * q\n",
    "print(n)"
   ]
  },
  {
   "cell_type": "code",
   "execution_count": null,
   "metadata": {},
   "outputs": [],
   "source": [
    "tot = (p - 1) * (q - 1)\n",
    "print(tot)"
   ]
  },
  {
   "cell_type": "code",
   "execution_count": null,
   "metadata": {},
   "outputs": [],
   "source": [
    "e = gen_coprime(n)\n",
    "print(e)"
   ]
  },
  {
   "cell_type": "code",
   "execution_count": null,
   "metadata": {},
   "outputs": [],
   "source": [
    "d = mod_inverse(e, tot)\n",
    "print(d)"
   ]
  },
  {
   "cell_type": "code",
   "execution_count": null,
   "metadata": {},
   "outputs": [],
   "source": [
    "pub_k = (n, e)\n",
    "pri_k = (n, d)"
   ]
  },
  {
   "cell_type": "code",
   "execution_count": null,
   "metadata": {},
   "outputs": [],
   "source": [
    "input_string = str_to_int(\"cheeki breeki iv damke!\")\n",
    "enc = pow(input_string, pub_k[1], pub_k[0])\n",
    "print(enc)"
   ]
  },
  {
   "cell_type": "code",
   "execution_count": null,
   "metadata": {},
   "outputs": [],
   "source": [
    "dec = pow(enc, pri_k[1], pri_k[0])\n",
    "print(dec)"
   ]
  },
  {
   "cell_type": "code",
   "execution_count": null,
   "metadata": {},
   "outputs": [],
   "source": [
    "output = int_to_str(dec)\n",
    "print(output)"
   ]
  },
  {
   "cell_type": "markdown",
   "metadata": {},
   "source": [
    "## Better Functions"
   ]
  },
  {
   "cell_type": "code",
   "execution_count": 12,
   "metadata": {},
   "outputs": [],
   "source": [
    "from nprime.pyprime import miller_rabin\n",
    "from math import gcd as bltin_gcd\n",
    "from secrets import randbits, randbelow\n",
    "from sympy import mod_inverse\n",
    "\n",
    "def generate_prime_candidate(len):\n",
    "    p_can = randbits(len)\n",
    "    \n",
    "    p_can |= (1 << len - 1) | 1\n",
    "    return p_can\n",
    "\n",
    "def gen_prime_number(len=1024):\n",
    "    p = 4\n",
    "    while not miller_rabin(p, t=128):\n",
    "        p = generate_prime_candidate(len)\n",
    "    return p\n",
    "\n",
    "# Coprime generation functions\n",
    "def coprime2(a, b):\n",
    "    return bltin_gcd(a, b) == 1\n",
    "\n",
    "def gen_coprime(n):\n",
    "    m = randbelow(n - 1) + 2\n",
    "    while not coprime2(m, n):\n",
    "        m = randbelow(n - 1) + 2\n",
    "    return m\n",
    "\n",
    "def str_to_int(in_string):\n",
    "    int_list = [None] * len(in_string)\n",
    "    for index, c in enumerate(in_string.upper()):\n",
    "        int_list[index] = ord(c)\n",
    "    l_to_i = [str(num) for num in int_list]\n",
    "    l_to_i = int(\"\".join(l_to_i))\n",
    "    return l_to_i\n",
    "\n",
    "def int_to_str(in_int):\n",
    "    i_str = str(in_int)\n",
    "    new_str = \"\"\n",
    "    for x in range(len(i_str) // 2):\n",
    "        new_str += (chr(int(i_str[x*2:x*2 + 2])))\n",
    "    return new_str.lower()"
   ]
  },
  {
   "cell_type": "code",
   "execution_count": 13,
   "metadata": {},
   "outputs": [],
   "source": [
    "def generate_key_pair(len=128):\n",
    "    p = gen_prime_number(len)\n",
    "    q = gen_prime_number(len)\n",
    "    \n",
    "    n = p * q\n",
    "    tot = (p - 1) * (q - 1)\n",
    "    \n",
    "    # Generate coprimes until a modular inversible d is found\n",
    "    while True:\n",
    "        try:\n",
    "            e = gen_coprime(n)\n",
    "            d = mod_inverse(e, tot)\n",
    "        except ValueError:\n",
    "            continue\n",
    "        break\n",
    "    \n",
    "    public = (e, n)\n",
    "    private = (d, n)\n",
    "    \n",
    "    key_pair = (public, private)\n",
    "    return key_pair\n",
    "\n",
    "def encrypt_RSA(message, public_key):\n",
    "    inted_msg = str_to_int(message)\n",
    "    return pow(inted_msg, public_key[0], public_key[1])\n",
    "\n",
    "def decrypt_RSA(encrypted_msg, private_key):\n",
    "    return int_to_str(pow(encrypted_msg, private_key[0], private_key[1]))"
   ]
  },
  {
   "cell_type": "code",
   "execution_count": 14,
   "metadata": {},
   "outputs": [
    {
     "name": "stdout",
     "output_type": "stream",
     "text": [
      "(41682329846483988954343720222763547220138872664711517059939688366412709145863, 46691346968120214251603800058165092998096201439385296922114843889684667967321)\n",
      "(1073904220577678722453188317142572033897427760937520899921162625235379158327, 46691346968120214251603800058165092998096201439385296922114843889684667967321)\n"
     ]
    }
   ],
   "source": [
    "pub, pri = generate_key_pair(128)\n",
    "print(pub)\n",
    "print(pri)"
   ]
  },
  {
   "cell_type": "code",
   "execution_count": 15,
   "metadata": {},
   "outputs": [
    {
     "name": "stdout",
     "output_type": "stream",
     "text": [
      "4042230546172913177453089899408352414129872939637626205902186540232290789851\n"
     ]
    }
   ],
   "source": [
    "enc = encrypt_RSA(\"Hello world\", pub)\n",
    "print(enc)"
   ]
  },
  {
   "cell_type": "code",
   "execution_count": 16,
   "metadata": {},
   "outputs": [
    {
     "name": "stdout",
     "output_type": "stream",
     "text": [
      "hello world\n"
     ]
    }
   ],
   "source": [
    "dec = decrypt_RSA(enc, pri)\n",
    "print(dec)"
   ]
  },
  {
   "cell_type": "code",
   "execution_count": null,
   "metadata": {},
   "outputs": [],
   "source": []
  }
 ],
 "metadata": {
  "kernelspec": {
   "display_name": "Python 3",
   "language": "python",
   "name": "python3"
  },
  "language_info": {
   "codemirror_mode": {
    "name": "ipython",
    "version": 3
   },
   "file_extension": ".py",
   "mimetype": "text/x-python",
   "name": "python",
   "nbconvert_exporter": "python",
   "pygments_lexer": "ipython3",
   "version": "3.7.5"
  }
 },
 "nbformat": 4,
 "nbformat_minor": 2
}
