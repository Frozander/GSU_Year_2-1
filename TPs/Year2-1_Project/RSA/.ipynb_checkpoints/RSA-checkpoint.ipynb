{
 "cells": [
  {
   "cell_type": "code",
   "execution_count": 4,
   "metadata": {},
   "outputs": [],
   "source": [
    "from nprime.pyprime import miller_rabin\n",
    "from secrets import randbits, randbelow\n",
    "from math import gcd\n",
    "from sympy import mod_inverse"
   ]
  },
  {
   "cell_type": "markdown",
   "metadata": {},
   "source": [
    "## Prime Generation"
   ]
  },
  {
   "cell_type": "code",
   "execution_count": 26,
   "metadata": {},
   "outputs": [],
   "source": [
    "def generate_prime_candidate(len):\n",
    "    p_can = randbits(len)\n",
    "    \n",
    "    p_can |= (1 << len - 1) | 1\n",
    "    return p_can"
   ]
  },
  {
   "cell_type": "code",
   "execution_count": 27,
   "metadata": {},
   "outputs": [],
   "source": [
    "def gen_prime_number(len=1024):\n",
    "    p = 4\n",
    "    while not miller_rabin(p, t=128):\n",
    "        p = generate_prime_candidate(len)\n",
    "    return p\n",
    "\n",
    "def coprime2(a, b):\n",
    "    return gcd(a, b) == 1\n",
    "\n",
    "def gen_coprime(n):\n",
    "    m = randbelow(n - 1) + 2\n",
    "    while not coprime2(m, n):\n",
    "        m = randbelow(n - 1) + 2\n",
    "    return m"
   ]
  },
  {
   "cell_type": "code",
   "execution_count": 28,
   "metadata": {},
   "outputs": [],
   "source": [
    "p = gen_prime_number()\n",
    "q = gen_prime_number()"
   ]
  },
  {
   "cell_type": "code",
   "execution_count": 29,
   "metadata": {},
   "outputs": [
    {
     "name": "stdout",
     "output_type": "stream",
     "text": [
      "p: 127752070825754461780557343241300619607860604467478236022405525712023775127531182941316316135466998663404393009862635710680748673322898539350905419972533787179137944871565734222016115062269286213764715376988500371991606544848321937374672707898902859191723138845592013425944117574248201040883335534666152080889\n",
      "q: 115366863097983313251111978657062227950028021801667770531311685801667579062665786185562970997852275465975919870220237435700757938050411661482973488104014594138127810321922797223058573210769983405435715672808614828611868436385661477938251351619602595790847031364790649786101439572384820992487940331698894874511\n",
      "p * q: 14738355665438683038074438253746348523417120360953080569216320903063937602684435829580671785008744083298424309060054793234175038536646776705317488761042061241213053815797990106478354643682144197290430420343394675998104510261680341129131839488737096389891632721495112730854048860749596911457111218819595020564101050383441625222889388685447870367254491641061476588003885276531334282893314360797120448960736565866524377750897478084034660924120779554235507184297200649892460016026637223436503902883947980072699062300934861241549447029463920197521233629945897962667499509642051442241354036903291811824924883111159176320279\n"
     ]
    }
   ],
   "source": [
    "print(f\"p: { p }\\nq: { q }\\np * q: { p * q }\")"
   ]
  },
  {
   "cell_type": "markdown",
   "metadata": {},
   "source": [
    "## Encode message as a number"
   ]
  },
  {
   "cell_type": "code",
   "execution_count": 30,
   "metadata": {},
   "outputs": [],
   "source": [
    "def str_to_int(in_string):\n",
    "    int_list = [None] * len(in_string)\n",
    "    for index, c in enumerate(in_string.upper()):\n",
    "        int_list[index] = ord(c)\n",
    "    l_to_i = [str(num) for num in int_list]\n",
    "    l_to_i = int(\"\".join(l_to_i))\n",
    "    return l_to_i"
   ]
  },
  {
   "cell_type": "code",
   "execution_count": 31,
   "metadata": {},
   "outputs": [
    {
     "name": "stdout",
     "output_type": "stream",
     "text": [
      "7269767679\n"
     ]
    }
   ],
   "source": [
    "test = str_to_int(\"Hello\")\n",
    "print(test)"
   ]
  },
  {
   "cell_type": "markdown",
   "metadata": {},
   "source": [
    "## Decode the number as a string"
   ]
  },
  {
   "cell_type": "code",
   "execution_count": 32,
   "metadata": {},
   "outputs": [],
   "source": [
    "def int_to_str(in_int):\n",
    "    i_str = str(in_int)\n",
    "    new_str = \"\"\n",
    "    for x in range(len(i_str) // 2):\n",
    "        new_str += (chr(int(i_str[x*2:x*2 + 2])))\n",
    "    return new_str.lower()"
   ]
  },
  {
   "cell_type": "code",
   "execution_count": 33,
   "metadata": {},
   "outputs": [
    {
     "name": "stdout",
     "output_type": "stream",
     "text": [
      "'hello world!' is encoded as '726976767932877982766833', and decoded as 'hello world!'\n"
     ]
    }
   ],
   "source": [
    "test = \"hello world!\"\n",
    "test_e = str_to_int(test)\n",
    "test_d = int_to_str(test_e)\n",
    "\n",
    "print(f\"'{ test }' is encoded as '{ test_e }', and decoded as '{ test_d }'\")"
   ]
  },
  {
   "cell_type": "markdown",
   "metadata": {},
   "source": [
    "# Testing our RSA"
   ]
  },
  {
   "cell_type": "code",
   "execution_count": 34,
   "metadata": {},
   "outputs": [],
   "source": [
    "def lcm(a, b):\n",
    "    return abs(a*b) // gcd(a, b)\n",
    "\n",
    "def  carmichaels_totient(a, b):\n",
    "    return lcm(a - 1, b - 1)"
   ]
  },
  {
   "cell_type": "code",
   "execution_count": 35,
   "metadata": {},
   "outputs": [
    {
     "name": "stdout",
     "output_type": "stream",
     "text": [
      "168325406037216869095871442380441575581191872455902653749032561002785973072636703087552075883553269094100329084228354123581273988359137869095069755520642567378890995767246390258460923753725886225813423638954455559949861740777187609386676981322556592431015456015886426954772685984722950402740683912281245264183\n",
      "150851238385576474738984775229720023731910483010263625035803709640002074328953533880922146569255946903631337179402020568811787215083701584873926436442339532565032743892862790188668049958142570471368115916886806448955051433900587743075227162530461303763259950873902552338733890988332836022444160716635650344671\n"
     ]
    }
   ],
   "source": [
    "# Generating our initial primes\n",
    "p = gen_prime_number(1024)\n",
    "q = gen_prime_number(1024)\n",
    "print(p)\n",
    "print(q)"
   ]
  },
  {
   "cell_type": "code",
   "execution_count": 36,
   "metadata": {},
   "outputs": [
    {
     "name": "stdout",
     "output_type": "stream",
     "text": [
      "25392095952469155446434453277105023278008131287837281191994797090138938427095725466784261669102693419643254267984908389556265891711181811997056099339639689108626330736538708769276463907524285923267958776642562328917717130854208049246171126892125450244624927768093228895610089371243647883384780282921795831118517534666640923920931900075435450806169494354743813354040237020542283099312435959572312539662624966116889245110450338256912710981664188213114187521767011360015718216023367984550013892400219331492675066473891613946514590772571784656972400502472818894021592886439723348738054494495681881812968717095010401218793\n"
     ]
    }
   ],
   "source": [
    "# Calculate n\n",
    "n = p * q\n",
    "print(n)"
   ]
  },
  {
   "cell_type": "code",
   "execution_count": 37,
   "metadata": {},
   "outputs": [
    {
     "name": "stdout",
     "output_type": "stream",
     "text": [
      "12696047976234577723217226638552511639004065643918640595997398545069469213547862733392130834551346709821627133992454194778132945855590905998528049669819844554313165368269354384638231953762142961633979388321281164458858565427104024623085563446062725122312463884046614447805044685621823941692390141460897915559099179011109065288548521928912644603428195999638823537627700374949747525955422861301919158604907875059578789423409981782259824889110674379572595664902014630035897238181629402051442459344175437397746763459025175968804838798947004652255248179309900498913658739774967184722273958761313047693891936233046752804970\n"
     ]
    }
   ],
   "source": [
    "# Calculate totient of n tot = (p - 1) * (q - 1)\n",
    "tot = carmichaels_totient(p, q)\n",
    "print(tot)"
   ]
  },
  {
   "cell_type": "code",
   "execution_count": 38,
   "metadata": {},
   "outputs": [
    {
     "name": "stdout",
     "output_type": "stream",
     "text": [
      "5165391106504109204308755031430320085616020217752881180634388601126333652608320847666406772954346574761682072792729745001505028581504420932331869998160699260972106534571009517461448686770953222502606597547196389998729421942511816465372499075538712702463680941808616567702091063200777796614488851980461821336417080649275898958101691768167050411644406447275271263797140844474986130610790218544468886393070709790754022118658368365884205399824424860010778646006662864325368869626427744152355510033638317640335375254335137790645408852383900398546445000846444897507874048257435319275967892622416923587396342499356812311717\n"
     ]
    }
   ],
   "source": [
    "# Generate coprime for n\n",
    "e  = gen_coprime(n)\n",
    "print(e)"
   ]
  },
  {
   "cell_type": "code",
   "execution_count": 39,
   "metadata": {},
   "outputs": [
    {
     "name": "stdout",
     "output_type": "stream",
     "text": [
      "1754617763590984324374548376636274772615373148675156960296841030915522429832641290932790627533569067239632497541766791628998321455407382054776114147439510537524918931768288016890889457386569927226235774038544551051031445642741672896266610621312208058503530605886072043627614939423179265832511225798056248485470014243822550041175584299326906674034749183528450850848658069458744955822610819752283615748922729887096206615146413464966430838834760901828410625072990525859813667062597692645989151135578265020647663848952177060371953905054358888562753703791570880583542893072515063902053452810936231946030245201746296555093\n"
     ]
    }
   ],
   "source": [
    "#Find the value d for private key pair (decryption key)\n",
    "# Hardest one to calculate by brute force\n",
    "d = mod_inverse(e, tot)\n",
    "print(d)"
   ]
  },
  {
   "cell_type": "code",
   "execution_count": 40,
   "metadata": {},
   "outputs": [],
   "source": [
    "# Create our key pairs\n",
    "pub_k = (n, e)\n",
    "pri_k = (n, d)"
   ]
  },
  {
   "cell_type": "code",
   "execution_count": 41,
   "metadata": {},
   "outputs": [
    {
     "name": "stdout",
     "output_type": "stream",
     "text": [
      "818573677532668279877832707988327485778069683279866982328472693276659089\n"
     ]
    }
   ],
   "source": [
    "# Now let's create a string and encode it as an integer\n",
    "input_string = \"Quick brown fox jumped over the lazy\"\n",
    "inted_str = str_to_int(input_string)\n",
    "print(inted_str)"
   ]
  },
  {
   "cell_type": "code",
   "execution_count": 42,
   "metadata": {},
   "outputs": [
    {
     "name": "stdout",
     "output_type": "stream",
     "text": [
      "12709310148903554816572822189002593886328744934063990746342451303265309798884204516926160696121123981457359636291530947828648975884370329218880583441950642295352137309686903840707807998597889855825305920593458217330779618995283763699353150097775751095214144973398716438891121752826298019002031463972095357511343813675260624683331068420744092530030667748120100007569367695758968658409175333988370479896938645294997043675932495396511993129114511565578385417054961292533960069590802136666909136730022406126514377653386837178163643002847734946668812095935939489772499841590261053116395161614966373370446691093032473422413\n"
     ]
    }
   ],
   "source": [
    "# Encrypt the message value by using the public key\n",
    "encoded_string = pow(inted_str, pub_k[1], pub_k[0])\n",
    "print(encoded_string)"
   ]
  },
  {
   "cell_type": "code",
   "execution_count": 43,
   "metadata": {},
   "outputs": [
    {
     "name": "stdout",
     "output_type": "stream",
     "text": [
      "quick brown fox jumped over the lazy\n"
     ]
    }
   ],
   "source": [
    "# Decrypt the value to the message using private key\n",
    "decrypted_string = int_to_str(pow(encoded_string, pri_k[1], pri_k[0]))\n",
    "print(decrypted_string)"
   ]
  },
  {
   "cell_type": "code",
   "execution_count": 44,
   "metadata": {},
   "outputs": [],
   "source": [
    "# Let's do both steps in once\n",
    "enc = pow(inted_str, pri_k[1], pri_k[0])\n",
    "dec = int_to_str(pow(enc, pub_k[1], pub_k[0]))"
   ]
  },
  {
   "cell_type": "code",
   "execution_count": 45,
   "metadata": {},
   "outputs": [
    {
     "name": "stdout",
     "output_type": "stream",
     "text": [
      "Quick brown fox jumped over the lazy was represented as 818573677532668279877832707988327485778069683279866982328472693276659089\n",
      "\n",
      "Then it was encoded as : 2940452216456062648653048717044244708976124220886864184368782847824029242271957187842374936559410151749110148310143111188608725714961439951554227525589585009065042730672215966762936089895384651520299870077199157678324547525304616901530323981040762649553927921516242656711058857644610466149401391896803541078502191511640344184983240670077185220285965947259670126466197620803058868345259180732698687963233596009957695537704579759751930828669904075856644154015710520492115993362120786568072266073436870808406173874350298377348130856095095969856097869751502705833975283438680430764565385564199877064823844602508288929118\n",
      "\n",
      "Finally it was decoded as : quick brown fox jumped over the lazy\n"
     ]
    }
   ],
   "source": [
    "# Output\n",
    "print(f\"{ input_string } was represented as { inted_str }\\n\")\n",
    "print(f\"Then it was encoded as : { enc }\\n\")\n",
    "print(f\"Finally it was decoded as : { dec }\")"
   ]
  },
  {
   "cell_type": "markdown",
   "metadata": {},
   "source": [
    "## Testing with smaller key size"
   ]
  },
  {
   "cell_type": "code",
   "execution_count": 67,
   "metadata": {},
   "outputs": [
    {
     "name": "stdout",
     "output_type": "stream",
     "text": [
      "327527426625466215757445338866722254313\n",
      "181569726453368497695439810612611762209\n"
     ]
    }
   ],
   "source": [
    "p = gen_prime_number(128)\n",
    "q = gen_prime_number(128)\n",
    "\n",
    "print(p)\n",
    "print(q)"
   ]
  },
  {
   "cell_type": "code",
   "execution_count": 68,
   "metadata": {},
   "outputs": [
    {
     "name": "stdout",
     "output_type": "stream",
     "text": [
      "59469065258361622780577244343088940319957877210558710178340279732443980657417\n"
     ]
    }
   ],
   "source": [
    "n = p * q\n",
    "print(n)"
   ]
  },
  {
   "cell_type": "code",
   "execution_count": 69,
   "metadata": {},
   "outputs": [
    {
     "name": "stdout",
     "output_type": "stream",
     "text": [
      "7433633157295202847572155542886117539931097507184984433110924322870580830112\n"
     ]
    }
   ],
   "source": [
    "tot = carmichaels_totient(p, q)\n",
    "print(tot)"
   ]
  },
  {
   "cell_type": "code",
   "execution_count": 70,
   "metadata": {},
   "outputs": [
    {
     "name": "stdout",
     "output_type": "stream",
     "text": [
      "31749294795930696152103004437307742621478788145007990380360111152849625878411\n"
     ]
    }
   ],
   "source": [
    "e = gen_coprime(n)\n",
    "print(e)"
   ]
  },
  {
   "cell_type": "code",
   "execution_count": 71,
   "metadata": {},
   "outputs": [
    {
     "name": "stdout",
     "output_type": "stream",
     "text": [
      "833006910011787851241745792538812454189988228947108971472224721833991792739\n"
     ]
    }
   ],
   "source": [
    "d = mod_inverse(e, tot)\n",
    "print(d)"
   ]
  },
  {
   "cell_type": "code",
   "execution_count": 74,
   "metadata": {},
   "outputs": [],
   "source": [
    "pub_k = (n, e)\n",
    "pri_k = (n, d)"
   ]
  },
  {
   "cell_type": "code",
   "execution_count": 73,
   "metadata": {},
   "outputs": [
    {
     "name": "stdout",
     "output_type": "stream",
     "text": [
      "30649709944311212180801748065516808276838092015498530064510508702368642029832\n"
     ]
    }
   ],
   "source": [
    "input_string = str_to_int(\"cheeki breeki iv damke!\")\n",
    "enc = pow(input_string, pub_k[1], pub_k[0])\n",
    "print(enc)"
   ]
  },
  {
   "cell_type": "code",
   "execution_count": 75,
   "metadata": {},
   "outputs": [
    {
     "name": "stdout",
     "output_type": "stream",
     "text": [
      "6772696975733266826969757332738632686577756933\n"
     ]
    }
   ],
   "source": [
    "dec = pow(enc, pri_k[1], pri_k[0])\n",
    "print(dec)"
   ]
  },
  {
   "cell_type": "code",
   "execution_count": 76,
   "metadata": {},
   "outputs": [
    {
     "name": "stdout",
     "output_type": "stream",
     "text": [
      "cheeki breeki iv damke!\n"
     ]
    }
   ],
   "source": [
    "output = int_to_str(dec)\n",
    "print(output)"
   ]
  },
  {
   "cell_type": "markdown",
   "metadata": {},
   "source": [
    "## Better Functions"
   ]
  },
  {
   "cell_type": "code",
   "execution_count": 5,
   "metadata": {},
   "outputs": [],
   "source": [
    "from nprime.pyprime import miller_rabin\n",
    "from secrets import randbits, randbelow\n",
    "from math import gcd\n",
    "from sympy import mod_inverse\n",
    "\n",
    "def generate_prime_candidate(len):\n",
    "    p_can = randbits(len)\n",
    "    \n",
    "    p_can |= (1 << len - 1) | 1\n",
    "    return p_can\n",
    "\n",
    "def gen_prime_number(len=1024):\n",
    "    p = 4\n",
    "    while not miller_rabin(p, t=128):\n",
    "        p = generate_prime_candidate(len)\n",
    "    return p\n",
    "\n",
    "def coprime2(a, b):\n",
    "    return gcd(a, b) == 1\n",
    "\n",
    "def gen_coprime(n):\n",
    "    m = randbelow(n - 1) + 2\n",
    "    while not coprime2(m, n):\n",
    "        m = randbelow(n - 1) + 2\n",
    "    return m\n",
    "\n",
    "def lcm(a, b):\n",
    "    return abs(a*b) // math.gcd(a, b)\n",
    "\n",
    "def  carmichaels_totient(a, b):\n",
    "    return lcm(a - 1, b - 1)\n",
    "\n",
    "def str_to_int(in_string):\n",
    "    int_list = [None] * len(in_string)\n",
    "    for index, c in enumerate(in_string.upper()):\n",
    "        int_list[index] = ord(c)\n",
    "    l_to_i = [str(num) for num in int_list]\n",
    "    l_to_i = int(\"\".join(l_to_i))\n",
    "    return l_to_i\n",
    "\n",
    "def int_to_str(in_int):\n",
    "    i_str = str(in_int)\n",
    "    new_str = \"\"\n",
    "    for x in range(len(i_str) // 2):\n",
    "        new_str += (chr(int(i_str[x*2:x*2 + 2])))\n",
    "    return new_str.lower()"
   ]
  },
  {
   "cell_type": "code",
   "execution_count": 13,
   "metadata": {},
   "outputs": [],
   "source": [
    "def generate_key_pair(len=128):\n",
    "    p = gen_prime_number(len)\n",
    "    q = gen_prime_number(len)\n",
    "    \n",
    "    n = p * q\n",
    "    tot = (p - 1) * (q - 1)\n",
    "    \n",
    "    # Generate coprimes until a modular inversible d is found\n",
    "    while True:\n",
    "        try:\n",
    "            e = gen_coprime(n)\n",
    "            d = mod_inverse(e, tot)\n",
    "        except ValueError:\n",
    "            continue\n",
    "        break\n",
    "    \n",
    "    public = (e, n)\n",
    "    private = (d, n)\n",
    "    \n",
    "    key_pair = (public, private)\n",
    "    return key_pair\n",
    "\n",
    "def encrypt_RSA(message, public_key):\n",
    "    inted_msg = str_to_int(message)\n",
    "    return pow(inted_msg, public_key[0], public_key[1])\n",
    "\n",
    "def decrypt_RSA(encrypted_msg, private_key):\n",
    "    return int_to_str(pow(encrypted_msg, private_key[0], private_key[1]))"
   ]
  },
  {
   "cell_type": "code",
   "execution_count": 21,
   "metadata": {},
   "outputs": [
    {
     "name": "stdout",
     "output_type": "stream",
     "text": [
      "(10934706176998215869504498102471254542367834476915169336472379389458375945957, 69092701982470415124033289739481751308422535015718478960888369777561591175181)\n",
      "(24940255873116730226159421808542295711443782574143870802627359006588503287693, 69092701982470415124033289739481751308422535015718478960888369777561591175181)\n"
     ]
    }
   ],
   "source": [
    "pub, pri = generate_key_pair(128)\n",
    "print(pub)\n",
    "print(pri)"
   ]
  },
  {
   "cell_type": "code",
   "execution_count": 25,
   "metadata": {},
   "outputs": [
    {
     "name": "stdout",
     "output_type": "stream",
     "text": [
      "68291797869007301118793522459013821378610609491653818636258749667712745821908\n",
      "41434195327569215177899102151899759853399097116519555792850306361616027198257\n"
     ]
    }
   ],
   "source": [
    "enc_1 = encrypt_RSA(\"Hello world, I am a piece of shit.\", pub)\n",
    "enc_2 = encrypt_RSA(\" I have people of all\", pub)\n",
    "enc_3 = encrypt_RSA(\"color and ethniticy\", pub)\n",
    "print(enc_1)\n",
    "print(enc_2)"
   ]
  },
  {
   "cell_type": "code",
   "execution_count": 26,
   "metadata": {},
   "outputs": [
    {
     "name": "stdout",
     "output_type": "stream",
     "text": [
      "hello world, i am a piece of shit.\n",
      "<2^/'dz/w\u001e",
      "8o\u0014\u0002\u0017:\"\u0002-c\u000e\u001c",
      "\u0001dr1%\u0000\u001f,v1\u0018\u0005.\u0005$[\n"
     ]
    }
   ],
   "source": [
    "dec_1 = decrypt_RSA(enc_1, pri)\n",
    "dec_2 = decrypt_RSA(enc_2, pri)\n",
    "print(dec_1)\n",
    "print(dec_2)"
   ]
  },
  {
   "cell_type": "code",
   "execution_count": null,
   "metadata": {},
   "outputs": [],
   "source": []
  }
 ],
 "metadata": {
  "kernelspec": {
   "display_name": "Python 3",
   "language": "python",
   "name": "python3"
  },
  "language_info": {
   "codemirror_mode": {
    "name": "ipython",
    "version": 3
   },
   "file_extension": ".py",
   "mimetype": "text/x-python",
   "name": "python",
   "nbconvert_exporter": "python",
   "pygments_lexer": "ipython3",
   "version": "3.7.5"
  }
 },
 "nbformat": 4,
 "nbformat_minor": 2
}
